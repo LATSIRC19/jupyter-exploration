{
  "nbformat": 4,
  "nbformat_minor": 0,
  "metadata": {
    "colab": {
      "provenance": [],
      "authorship_tag": "ABX9TyOmmVVwtdqf10gB1D15o0F/",
      "include_colab_link": true
    },
    "kernelspec": {
      "name": "python3",
      "display_name": "Python 3"
    },
    "language_info": {
      "name": "python"
    }
  },
  "cells": [
    {
      "cell_type": "markdown",
      "metadata": {
        "id": "view-in-github",
        "colab_type": "text"
      },
      "source": [
        "<a href=\"https://colab.research.google.com/github/LATSIRC19/jupyter-exploration/blob/main/LATSIRC19_JUPYTER_EXPLORATION.ipynb\" target=\"_parent\"><img src=\"https://colab.research.google.com/assets/colab-badge.svg\" alt=\"Open In Colab\"/></a>"
      ]
    },
    {
      "cell_type": "code",
      "execution_count": null,
      "metadata": {
        "id": "w8vExdoLneNr"
      },
      "outputs": [],
      "source": [
        "New Jupyter Notebook\n"
      ]
    },
    {
      "cell_type": "markdown",
      "source": [
        "My First Markdown Cell In Jupyter."
      ],
      "metadata": {
        "id": "pVHiMt5N9e9p"
      }
    },
    {
      "cell_type": "code",
      "source": [
        "print(\"Hello, World!\")"
      ],
      "metadata": {
        "colab": {
          "base_uri": "https://localhost:8080/"
        },
        "id": "GBqsY6U5l3Jn",
        "outputId": "4386e19d-334d-4dd9-9cae-3c3d3d6d8a2e"
      },
      "execution_count": null,
      "outputs": [
        {
          "output_type": "stream",
          "name": "stdout",
          "text": [
            "Hello, World!\n"
          ]
        }
      ]
    },
    {
      "cell_type": "code",
      "source": [],
      "metadata": {
        "id": "CHAZxXkNmMB_"
      },
      "execution_count": null,
      "outputs": []
    }
  ]
}
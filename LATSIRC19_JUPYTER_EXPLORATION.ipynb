{
  "nbformat": 4,
  "nbformat_minor": 0,
  "metadata": {
    "colab": {
      "provenance": [],
      "authorship_tag": "ABX9TyPyO6ozp+YYq8M7s0d+XFGx",
      "include_colab_link": true
    },
    "kernelspec": {
      "name": "python3",
      "display_name": "Python 3"
    },
    "language_info": {
      "name": "python"
    }
  },
  "cells": [
    {
      "cell_type": "markdown",
      "metadata": {
        "id": "view-in-github",
        "colab_type": "text"
      },
      "source": [
        "<a href=\"https://colab.research.google.com/github/LATSIRC19/jupyter-exploration/blob/main/LATSIRC19_JUPYTER_EXPLORATION.ipynb\" target=\"_parent\"><img src=\"https://colab.research.google.com/assets/colab-badge.svg\" alt=\"Open In Colab\"/></a>"
      ]
    },
    {
      "cell_type": "code",
      "execution_count": null,
      "metadata": {
        "id": "w8vExdoLneNr"
      },
      "outputs": [],
      "source": [
        "New Jupyter Notebook\n"
      ]
    },
    {
      "cell_type": "markdown",
      "source": [
        "My First Markdown Cell In Jupyter."
      ],
      "metadata": {
        "id": "pVHiMt5N9e9p"
      }
    },
    {
      "cell_type": "markdown",
      "source": [
        "My First Markdown Cell In Jupyter"
      ],
      "metadata": {
        "id": "F-_-Gnf8-tnv"
      }
    },
    {
      "cell_type": "code",
      "source": [
        "print(\"Hello, World!\")"
      ],
      "metadata": {
        "colab": {
          "base_uri": "https://localhost:8080/",
          "height": 106
        },
        "id": "yLVdX6S7-4h5",
        "outputId": "ddc9649d-232e-4f1c-bd6c-32a5279b8fb7"
      },
      "execution_count": null,
      "outputs": [
        {
          "output_type": "error",
          "ename": "SyntaxError",
          "evalue": "invalid syntax (<ipython-input-2-dff7d8a2cf0d>, line 1)",
          "traceback": [
            "\u001b[0;36m  File \u001b[0;32m\"<ipython-input-2-dff7d8a2cf0d>\"\u001b[0;36m, line \u001b[0;32m1\u001b[0m\n\u001b[0;31m    print(Hello, World!\")\")\u001b[0m\n\u001b[0m                      ^\u001b[0m\n\u001b[0;31mSyntaxError\u001b[0m\u001b[0;31m:\u001b[0m invalid syntax\n"
          ]
        }
      ]
    },
    {
      "cell_type": "code",
      "source": [],
      "metadata": {
        "id": "aXzhkYb3_B3X"
      },
      "execution_count": null,
      "outputs": []
    }
  ]
}